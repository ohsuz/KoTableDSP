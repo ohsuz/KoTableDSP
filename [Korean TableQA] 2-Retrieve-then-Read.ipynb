{
 "cells": [
  {
   "cell_type": "code",
   "execution_count": 1,
   "id": "13b796f4-f730-4f6f-bf77-42635fc4020e",
   "metadata": {},
   "outputs": [
    {
     "name": "stdout",
     "output_type": "stream",
     "text": [
      "Not loading Cohere because it is not installed.\n",
      "Not loading Cohere because it is not installed.\n"
     ]
    }
   ],
   "source": [
    "import kodsp as dsp\n",
    "import json\n",
    "import pandas as pd\n",
    "import numpy as np\n",
    "from collections import defaultdict\n",
    "from itertools import chain\n",
    "from rank_bm25 import BM25Okapi\n",
    "\n",
    "openai_key = 'YOUR_API_KEY'"
   ]
  },
  {
   "cell_type": "code",
   "execution_count": 3,
   "id": "d9872a04-0807-4040-9e24-8c401f76e725",
   "metadata": {},
   "outputs": [],
   "source": [
    "def convert_data_to_dsp_v1(data_type):\n",
    "    dsp_examples = []\n",
    "    with open(f\"./KorWikiTQ_ko_{data_type}.json\", \"r\") as json_file:\n",
    "        korwikitq = json.load(json_file)['data']\n",
    "    for idx, datum in enumerate(korwikitq):\n",
    "        dsp_examples.append(dsp.Example(question=datum['QAS']['question'], \n",
    "                                        answer=datum['QAS']['answer']))\n",
    "    return dsp_examples"
   ]
  },
  {
   "cell_type": "code",
   "execution_count": 4,
   "id": "20c343a3-5d99-47c8-9831-a77200ed4667",
   "metadata": {},
   "outputs": [],
   "source": [
    "def convert_list_to_df(table_list):\n",
    "    table_df = pd.DataFrame(table_list)\n",
    "    table_df = table_df.rename(columns=table_df.iloc[0])\n",
    "    table_df = table_df.drop(table_df.index[0])\n",
    "    table_df.reset_index(drop=True, inplace=True)\n",
    "    table_df = table_df.astype('str')\n",
    "    table_df.columns = [\"nan\" if col == None else col for col in list(table_df.columns)]\n",
    "    return table_df"
   ]
  },
  {
   "cell_type": "code",
   "execution_count": 5,
   "id": "154b3a37-58f9-4d1a-9d55-dd78a2057750",
   "metadata": {},
   "outputs": [],
   "source": [
    "def convert_table_to_text(table_lst):\n",
    "    table_df = convert_list_to_df(table_lst)\n",
    "    table = {}\n",
    "    table['columns'] = table_df.columns.tolist()\n",
    "    table['values'] = table_df.values.tolist()\n",
    "    return json.dumps(table, ensure_ascii = False)"
   ]
  },
  {
   "cell_type": "markdown",
   "id": "bbc160d2-3bc5-473f-bc96-e17bb650ecd3",
   "metadata": {},
   "source": [
    "# LM"
   ]
  },
  {
   "cell_type": "code",
   "execution_count": 6,
   "id": "28f890b3-11ef-4bce-9d22-5d1de386e84e",
   "metadata": {},
   "outputs": [],
   "source": [
    "lm = dsp.GPT3(model='gpt-3.5-turbo', api_key=openai_key, model_type='chat')\n",
    "\n",
    "dsp.settings.configure(lm=lm)"
   ]
  },
  {
   "cell_type": "markdown",
   "id": "d6847848-cc31-4ac5-9816-cd74e51d58c4",
   "metadata": {},
   "source": [
    "# RM\n",
    "> 빠른 실험 및 쉬운 재현을 위해 bm25를 사용했습니다."
   ]
  },
  {
   "cell_type": "code",
   "execution_count": 7,
   "id": "c22547f2-784c-4c72-ab86-ade49ad6e237",
   "metadata": {},
   "outputs": [],
   "source": [
    "def retrieve_bm25(question, k):\n",
    "    return [txt_to_json_dict[' '.join(top_n_table)] for top_n_table in bm25.get_top_n(question.split(\" \"), corpus, n=k)]"
   ]
  },
  {
   "cell_type": "markdown",
   "id": "b5e5f34d-d43e-4446-b3fa-bcfea2606ea5",
   "metadata": {},
   "source": [
    "### Corpus 구축\n",
    "> Retrieval에 활용할 Corpus를 준비합니다. 해당 노트북은 DSP의 작동 방식을 보여주기 위한 튜토리얼 노트북이기 때문에 korwikitq dev 데이터에 포함된 표만을 사용하여 아주 작은 표 corpus를 구축했습니다."
   ]
  },
  {
   "cell_type": "code",
   "execution_count": 8,
   "id": "0b0b8036-85b5-4c2d-a3f3-8fde339e86d8",
   "metadata": {},
   "outputs": [],
   "source": [
    "with open(f\"./KorWikiTQ_ko_dev.json\", \"r\") as json_file:\n",
    "    korwikitq = json.load(json_file)['data']\n",
    "\n",
    "corpus = []\n",
    "txt_to_json_dict = defaultdict(str)\n",
    "\n",
    "for datum in korwikitq:\n",
    "    table_txt = \" \".join(list(chain(*datum['TBL'])))\n",
    "    if table_txt not in txt_to_json_dict:\n",
    "        corpus.append(table_txt.split(\" \"))\n",
    "        txt_to_json_dict[table_txt] = convert_table_to_text(datum['TBL'])"
   ]
  },
  {
   "cell_type": "code",
   "execution_count": 9,
   "id": "b6f7b805-95a2-413b-a384-18224a9442bd",
   "metadata": {},
   "outputs": [],
   "source": [
    "# custom 예제를 위한 table을 하나 추가합니다!\n",
    "\n",
    "dsba_table = [['이름', '연구실', '학기', '생일'],\n",
    "              ['마민정', 'DSBA', '1', '3월 4일'],\n",
    "              ['이지윤', 'DSBA', '2', '9월 23일'],\n",
    "              ['박새란', 'DSBA', '2', '10월 5일'],\n",
    "              ['오수지', 'DSBA', '4', '12월 1일'],\n",
    "              ['김선우', 'DSBA', '4', '4월 12일']]\n",
    "\n",
    "dsba_txt = \" \".join(list(chain(*dsba_table)))\n",
    "corpus.append(dsba_txt.split(\" \"))\n",
    "txt_to_json_dict[dsba_txt] = convert_table_to_text(dsba_table)\n",
    "\n",
    "bm25 = BM25Okapi(corpus)"
   ]
  },
  {
   "cell_type": "markdown",
   "id": "09706e0e-d874-4882-bd41-6e1e3b166193",
   "metadata": {},
   "source": [
    "# Data"
   ]
  },
  {
   "cell_type": "code",
   "execution_count": 10,
   "id": "0505fab6-f3c3-41a1-a330-15a718ae8f51",
   "metadata": {},
   "outputs": [],
   "source": [
    "train = convert_data_to_dsp_v1(data_type='train')\n",
    "dev = convert_data_to_dsp_v1(data_type='dev')"
   ]
  },
  {
   "cell_type": "code",
   "execution_count": 11,
   "id": "5a3fc07b-ed48-4803-b75e-672c241edc5c",
   "metadata": {},
   "outputs": [],
   "source": [
    "# 원하는 task에 맞게 prefix, desc, instructions만 간단하게 수정해주면 끝입니다!\n",
    "\n",
    "Question = dsp.Type(prefix=\"질문: \", desc=\"${표와 관련된 질문}\")\n",
    "Answer = dsp.Type(prefix=\"정답: \", desc=\"${표에서 찾아낸 질문에 대한 답}\", format=dsp.format_answers)\n",
    "Table = dsp.Type(\n",
    "    prefix=\"표:\\n\",\n",
    "    desc=\"${JSON 형식으로 주어진 표}\",\n",
    "    format=dsp.passages2text\n",
    ")\n",
    "Rationale = dsp.Type(\n",
    "    prefix=\"근거: 정답을 확실히 하기 위해 이 문제를 단계별로 해결해 봅시다. 표에 근거하여 우리는 질문에 주어진 대상에 대해 다음과 같은 것들을 알 수 있습니다.\",\n",
    "    desc=\"${표에서 찾을 수 있는 정답에 대한 중요한 단서}\"\n",
    ")\n",
    "\n",
    "# template for basic prompt\n",
    "qa_template_v2 = dsp.Template(instructions=\"JSON 형식으로 된 다음의 표에 근거하여 주어진 질문에 대해 답하세요.\",\n",
    "                              context=Table(),\n",
    "                              question=Question(),\n",
    "                              answer=Answer())\n",
    "\n",
    "\n",
    "# template for CoT prompt\n",
    "qa_template_v3 = dsp.Template(instructions=\"JSON 형식으로 된 다음의 표에 근거하여 주어진 질문에 대해 답하세요.\",\n",
    "                              context=Table(),\n",
    "                              question=Question(),\n",
    "                              rationale=Rationale(),\n",
    "                              answer=Answer())"
   ]
  },
  {
   "cell_type": "markdown",
   "id": "11c7c8f3-ff18-4527-943c-cb7c0187bf5e",
   "metadata": {},
   "source": [
    "# Retrieve-then-Read"
   ]
  },
  {
   "cell_type": "markdown",
   "id": "1f674791-1e98-4b9f-b25a-e17921f6a181",
   "metadata": {},
   "source": [
    "## 1) Basic Prompt ver."
   ]
  },
  {
   "cell_type": "code",
   "execution_count": 12,
   "id": "a2d7be7b-a016-460c-a846-3304cc801d0e",
   "metadata": {},
   "outputs": [],
   "source": [
    "def retrieve_then_read_QA(question: str, template: dsp.Template) -> str:\n",
    "    demos = dsp.sample(train, k=5)\n",
    "    tables = retrieve_bm25(question, k=1)\n",
    "    \n",
    "    example = dsp.Example(question=question, context=tables, demos=demos)\n",
    "    example, completions = dsp.generate(template)(example, stage='qa')\n",
    "\n",
    "    return completions.answer"
   ]
  },
  {
   "cell_type": "code",
   "execution_count": 13,
   "id": "25078d4a-520a-477a-8ae9-bdc48645939f",
   "metadata": {},
   "outputs": [
    {
     "name": "stdout",
     "output_type": "stream",
     "text": [
      "\n",
      "\n",
      "\n",
      "\n",
      "JSON 형식으로 된 다음의 표에 근거하여 주어진 질문에 대해 답하세요.\n",
      "\n",
      "---\n",
      "\n",
      "질문: 농림부 3대 차관보은 누구입니까?\n",
      "정답: 구윤석(具允錫)\n",
      "\n",
      "질문: 브느와 델롬이 2005년에 연출한 작품은 뭔가요?\n",
      "정답: 프로포지션\n",
      "\n",
      "질문: 아라라트 예레반의 1975-76 시즌 UEFA 컵위너스컵 1라운드 최종 점수가 어떻게 돼?\n",
      "정답: 10-1\n",
      "\n",
      "질문: 애니메이션 박앵귀 10화의 부제를 일본어로 뭐라고 하나요?\n",
      "정답: 絆のゆくえ\n",
      "\n",
      "질문: 비주얼 스튜디오 6.0의 코드명이 뭐야?\n",
      "정답: Aspen\n",
      "\n",
      "---\n",
      "\n",
      "출력 형식은 다음과 같습니다.\n",
      "\n",
      "표:\n",
      "${JSON 형식으로 주어진 표}\n",
      "\n",
      "질문: ${표와 관련된 질문}\n",
      "\n",
      "정답: ${표에서 찾아낸 질문에 대한 답}\n",
      "\n",
      "---\n",
      "\n",
      "표:\n",
      "«{\"columns\": [\"연도\", \"방송사\", \"제목\", \"역할\", \"비고\"], \"values\": [[\"2009\", \"SBS\", \"녹색마차\", \"서정란\", \"\"], [\"2011\", \"SBS\", \"신기생뎐\", \"최영림\", \"\"], [\"2011\", \"MBC\", \"불굴의 며느리\", \"조은수\", \"\"], [\"2013\", \"MBC\", \"구가의 서\", \"월선\", \"\"], [\"2014\", \"KBS2\", \"뻐꾸기 둥지\", \"백준희\", \"\"], [\"2015\", \"KBS1\", \"징비록\", \"요도\", \"\"], [\"2015\", \"MBC\", \"달콤살벌 패밀리\", \"김은실\", \"\"], [\"2016\", \"MBC\", \"옥중화\", \"다정\", \"\"], [\"2016\", \"MBC\", \"황금주머니\", \"배민희\", \"\"], [\"2018\", \"SBS\", \"시크릿 마더\", \"신세연\", \"\"]]}»\n",
      "\n",
      "질문: 손승우가 요도 역을 연기한 드라마는 뭔가요?\n",
      "\n",
      "정답:\u001b[32m징비록\u001b[0m\n",
      "\n",
      "\n",
      "\n"
     ]
    }
   ],
   "source": [
    "retrieve_then_read_QA(dev[5].question, qa_template_v2)\n",
    "lm.inspect_history(n=1)"
   ]
  },
  {
   "cell_type": "code",
   "execution_count": 14,
   "id": "1d12af1b-f263-4324-86d2-3822a49ba3ab",
   "metadata": {},
   "outputs": [
    {
     "name": "stdout",
     "output_type": "stream",
     "text": [
      "\n",
      "\n",
      "\n",
      "\n",
      "JSON 형식으로 된 다음의 표에 근거하여 주어진 질문에 대해 답하세요.\n",
      "\n",
      "---\n",
      "\n",
      "질문: 농림부 3대 차관보은 누구입니까?\n",
      "정답: 구윤석(具允錫)\n",
      "\n",
      "질문: 브느와 델롬이 2005년에 연출한 작품은 뭔가요?\n",
      "정답: 프로포지션\n",
      "\n",
      "질문: 아라라트 예레반의 1975-76 시즌 UEFA 컵위너스컵 1라운드 최종 점수가 어떻게 돼?\n",
      "정답: 10-1\n",
      "\n",
      "질문: 애니메이션 박앵귀 10화의 부제를 일본어로 뭐라고 하나요?\n",
      "정답: 絆のゆくえ\n",
      "\n",
      "질문: 비주얼 스튜디오 6.0의 코드명이 뭐야?\n",
      "정답: Aspen\n",
      "\n",
      "---\n",
      "\n",
      "출력 형식은 다음과 같습니다.\n",
      "\n",
      "표:\n",
      "${JSON 형식으로 주어진 표}\n",
      "\n",
      "질문: ${표와 관련된 질문}\n",
      "\n",
      "정답: ${표에서 찾아낸 질문에 대한 답}\n",
      "\n",
      "---\n",
      "\n",
      "표:\n",
      "«{\"columns\": [\"이름\", \"연구실\", \"학기\", \"생일\"], \"values\": [[\"마민정\", \"DSBA\", \"1\", \"3월 4일\"], [\"이지윤\", \"DSBA\", \"2\", \"9월 23일\"], [\"박새란\", \"DSBA\", \"2\", \"10월 5일\"], [\"오수지\", \"DSBA\", \"4\", \"12월 1일\"], [\"김선우\", \"DSBA\", \"4\", \"4월 12일\"]]}»\n",
      "\n",
      "질문: DSBA 연구실에서 4학기를 다니고 있으며, 성이 오씨인 학생의 생일은?\n",
      "\n",
      "정답:\u001b[32m12월 1일\u001b[0m\n",
      "\n",
      "\n",
      "\n"
     ]
    }
   ],
   "source": [
    "retrieve_then_read_QA(\"DSBA 연구실에서 4학기를 다니고 있으며, 성이 오씨인 학생의 생일은?\", qa_template_v2)\n",
    "lm.inspect_history(n=1)"
   ]
  },
  {
   "cell_type": "markdown",
   "id": "f857261e-6a55-44ac-a6b3-29ce3ae55f4b",
   "metadata": {},
   "source": [
    "## 2) CoT Prompt ver."
   ]
  },
  {
   "cell_type": "code",
   "execution_count": 15,
   "id": "3c161c16-5751-40b6-8e18-d700d685e66f",
   "metadata": {},
   "outputs": [
    {
     "name": "stdout",
     "output_type": "stream",
     "text": [
      "\n",
      "\n",
      "\n",
      "\n",
      "JSON 형식으로 된 다음의 표에 근거하여 주어진 질문에 대해 답하세요.\n",
      "\n",
      "---\n",
      "\n",
      "질문: 농림부 3대 차관보은 누구입니까?\n",
      "정답: 구윤석(具允錫)\n",
      "\n",
      "질문: 브느와 델롬이 2005년에 연출한 작품은 뭔가요?\n",
      "정답: 프로포지션\n",
      "\n",
      "질문: 아라라트 예레반의 1975-76 시즌 UEFA 컵위너스컵 1라운드 최종 점수가 어떻게 돼?\n",
      "정답: 10-1\n",
      "\n",
      "질문: 애니메이션 박앵귀 10화의 부제를 일본어로 뭐라고 하나요?\n",
      "정답: 絆のゆくえ\n",
      "\n",
      "질문: 비주얼 스튜디오 6.0의 코드명이 뭐야?\n",
      "정답: Aspen\n",
      "\n",
      "---\n",
      "\n",
      "출력 형식은 다음과 같습니다.\n",
      "\n",
      "표:\n",
      "${JSON 형식으로 주어진 표}\n",
      "\n",
      "질문: ${표와 관련된 질문}\n",
      "\n",
      "근거: 정답을 확실히 하기 위해 이 문제를 단계별로 해결해 봅시다. 표에 근거하여 우리는 질문에 주어진 대상에 대해 다음과 같은 것들을 알 수 있습니다. ${표에서 찾을 수 있는 정답에 대한 중요한 단서}\n",
      "\n",
      "정답: ${표에서 찾아낸 질문에 대한 답}\n",
      "\n",
      "---\n",
      "\n",
      "표:\n",
      "«{\"columns\": [\"연도\", \"방송사\", \"제목\", \"역할\", \"비고\"], \"values\": [[\"2009\", \"SBS\", \"녹색마차\", \"서정란\", \"\"], [\"2011\", \"SBS\", \"신기생뎐\", \"최영림\", \"\"], [\"2011\", \"MBC\", \"불굴의 며느리\", \"조은수\", \"\"], [\"2013\", \"MBC\", \"구가의 서\", \"월선\", \"\"], [\"2014\", \"KBS2\", \"뻐꾸기 둥지\", \"백준희\", \"\"], [\"2015\", \"KBS1\", \"징비록\", \"요도\", \"\"], [\"2015\", \"MBC\", \"달콤살벌 패밀리\", \"김은실\", \"\"], [\"2016\", \"MBC\", \"옥중화\", \"다정\", \"\"], [\"2016\", \"MBC\", \"황금주머니\", \"배민희\", \"\"], [\"2018\", \"SBS\", \"시크릿 마더\", \"신세연\", \"\"]]}»\n",
      "\n",
      "질문: 손승우가 요도 역을 연기한 드라마는 뭔가요?\n",
      "\n",
      "근거: 정답을 확실히 하기 위해 이 문제를 단계별로 해결해 봅시다. 표에 근거하여 우리는 질문에 주어진 대상에 대해 다음과 같은 것들을 알 수 있습니다.\u001b[32m연도: 2015\n",
      "방송사: KBS1\n",
      "제목: 징비록\n",
      "역할: 요도\n",
      "\n",
      "정답: 징비록\u001b[0m\n",
      "\n",
      "\n",
      "\n"
     ]
    }
   ],
   "source": [
    "retrieve_then_read_QA(dev[5].question, qa_template_v3)\n",
    "lm.inspect_history(n=1)"
   ]
  },
  {
   "cell_type": "code",
   "execution_count": 16,
   "id": "9b3c4bb1-72c2-464f-b204-8e28d27fdcf0",
   "metadata": {},
   "outputs": [
    {
     "name": "stdout",
     "output_type": "stream",
     "text": [
      "\n",
      "\n",
      "\n",
      "\n",
      "JSON 형식으로 된 다음의 표에 근거하여 주어진 질문에 대해 답하세요.\n",
      "\n",
      "---\n",
      "\n",
      "질문: 농림부 3대 차관보은 누구입니까?\n",
      "정답: 구윤석(具允錫)\n",
      "\n",
      "질문: 브느와 델롬이 2005년에 연출한 작품은 뭔가요?\n",
      "정답: 프로포지션\n",
      "\n",
      "질문: 아라라트 예레반의 1975-76 시즌 UEFA 컵위너스컵 1라운드 최종 점수가 어떻게 돼?\n",
      "정답: 10-1\n",
      "\n",
      "질문: 애니메이션 박앵귀 10화의 부제를 일본어로 뭐라고 하나요?\n",
      "정답: 絆のゆくえ\n",
      "\n",
      "질문: 비주얼 스튜디오 6.0의 코드명이 뭐야?\n",
      "정답: Aspen\n",
      "\n",
      "---\n",
      "\n",
      "출력 형식은 다음과 같습니다.\n",
      "\n",
      "표:\n",
      "${JSON 형식으로 주어진 표}\n",
      "\n",
      "질문: ${표와 관련된 질문}\n",
      "\n",
      "근거: 정답을 확실히 하기 위해 이 문제를 단계별로 해결해 봅시다. 표에 근거하여 우리는 질문에 주어진 대상에 대해 다음과 같은 것들을 알 수 있습니다. ${표에서 찾을 수 있는 정답에 대한 중요한 단서}\n",
      "\n",
      "정답: ${표에서 찾아낸 질문에 대한 답}\n",
      "\n",
      "---\n",
      "\n",
      "표:\n",
      "«{\"columns\": [\"이름\", \"연구실\", \"학기\", \"생일\"], \"values\": [[\"마민정\", \"DSBA\", \"1\", \"3월 4일\"], [\"이지윤\", \"DSBA\", \"2\", \"9월 23일\"], [\"박새란\", \"DSBA\", \"2\", \"10월 5일\"], [\"오수지\", \"DSBA\", \"4\", \"12월 1일\"], [\"김선우\", \"DSBA\", \"4\", \"4월 12일\"]]}»\n",
      "\n",
      "질문: DSBA 연구실에서 4학기를 다니고 있으며, 성이 오씨인 학생의 생일은?\n",
      "\n",
      "근거: 정답을 확실히 하기 위해 이 문제를 단계별로 해결해 봅시다. 표에 근거하여 우리는 질문에 주어진 대상에 대해 다음과 같은 것들을 알 수 있습니다.\u001b[32m- 연구실이 DSBA인 학생들의 정보\n",
      "- 학기가 4인 학생들의 정보\n",
      "- 성이 오씨인 학생들의 정보\n",
      "\n",
      "정답: DSBA 연구실에서 4학기를 다니고 있으며, 성이 오씨인 학생의 생일은 12월 1일입니다.\u001b[0m\n",
      "\n",
      "\n",
      "\n"
     ]
    }
   ],
   "source": [
    "# 이와 같이 demonstration에 주어진 것처럼 단답형으로 대답을 하지 않고 서술형으로 잘못 대답하는 경우 demo 개수를 늘리는 걸 추천드립니다\n",
    "retrieve_then_read_QA(\"DSBA 연구실에서 4학기를 다니고 있으며, 성이 오씨인 학생의 생일은?\", qa_template_v3)\n",
    "lm.inspect_history(n=1)"
   ]
  },
  {
   "cell_type": "code",
   "execution_count": 18,
   "id": "29ea6561-48ca-4895-9034-48743e159956",
   "metadata": {},
   "outputs": [
    {
     "name": "stdout",
     "output_type": "stream",
     "text": [
      "\n",
      "\n",
      "\n",
      "\n",
      "JSON 형식으로 된 다음의 표에 근거하여 주어진 질문에 대해 답하세요.\n",
      "\n",
      "---\n",
      "\n",
      "질문: 농림부 3대 차관보은 누구입니까?\n",
      "정답: 구윤석(具允錫)\n",
      "\n",
      "질문: 브느와 델롬이 2005년에 연출한 작품은 뭔가요?\n",
      "정답: 프로포지션\n",
      "\n",
      "질문: 아라라트 예레반의 1975-76 시즌 UEFA 컵위너스컵 1라운드 최종 점수가 어떻게 돼?\n",
      "정답: 10-1\n",
      "\n",
      "질문: 애니메이션 박앵귀 10화의 부제를 일본어로 뭐라고 하나요?\n",
      "정답: 絆のゆくえ\n",
      "\n",
      "질문: 비주얼 스튜디오 6.0의 코드명이 뭐야?\n",
      "정답: Aspen\n",
      "\n",
      "---\n",
      "\n",
      "출력 형식은 다음과 같습니다.\n",
      "\n",
      "표:\n",
      "${JSON 형식으로 주어진 표}\n",
      "\n",
      "질문: ${표와 관련된 질문}\n",
      "\n",
      "근거: 정답을 확실히 하기 위해 이 문제를 단계별로 해결해 봅시다. 표에 근거하여 우리는 질문에 주어진 대상에 대해 다음과 같은 것들을 알 수 있습니다. ${표에서 찾을 수 있는 정답에 대한 중요한 단서}\n",
      "\n",
      "정답: ${표에서 찾아낸 질문에 대한 답}\n",
      "\n",
      "---\n",
      "\n",
      "표:\n",
      "«{\"columns\": [\"이름\", \"연구실\", \"학기\", \"생일\"], \"values\": [[\"마민정\", \"DSBA\", \"1\", \"3월 4일\"], [\"이지윤\", \"DSBA\", \"2\", \"9월 23일\"], [\"박새란\", \"DSBA\", \"2\", \"10월 5일\"], [\"오수지\", \"DSBA\", \"4\", \"12월 1일\"], [\"김선우\", \"DSBA\", \"4\", \"4월 12일\"]]}»\n",
      "\n",
      "질문: DSBA 연구실에서 4학기를 다니고 있으며, 성이 오씨인 학생의 생일은 어떤 계절에 속해?\n",
      "\n",
      "근거: 정답을 확실히 하기 위해 이 문제를 단계별로 해결해 봅시다. 표에 근거하여 우리는 질문에 주어진 대상에 대해 다음과 같은 것들을 알 수 있습니다.\u001b[32mDSBA 연구실에서 4학기를 다니고 있으며, 성이 오씨인 학생은 오수지입니다. 그리고 오수지의 생일은 12월 1일입니다.\n",
      "\n",
      "정답: 겨울\u001b[0m\n",
      "\n",
      "\n",
      "\n"
     ]
    }
   ],
   "source": [
    "retrieve_then_read_QA(\"DSBA 연구실에서 4학기를 다니고 있으며, 성이 오씨인 학생의 생일은 어떤 계절에 속해?\", qa_template_v3)\n",
    "lm.inspect_history(n=1)"
   ]
  },
  {
   "cell_type": "code",
   "execution_count": null,
   "id": "3a15af38-7067-4bb8-a696-2fe7d7e682a2",
   "metadata": {},
   "outputs": [],
   "source": []
  }
 ],
 "metadata": {
  "kernelspec": {
   "display_name": "Python 3 (ipykernel)",
   "language": "python",
   "name": "python3"
  },
  "language_info": {
   "codemirror_mode": {
    "name": "ipython",
    "version": 3
   },
   "file_extension": ".py",
   "mimetype": "text/x-python",
   "name": "python",
   "nbconvert_exporter": "python",
   "pygments_lexer": "ipython3",
   "version": "3.10.9"
  }
 },
 "nbformat": 4,
 "nbformat_minor": 5
}
