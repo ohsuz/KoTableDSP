{
 "cells": [
  {
   "cell_type": "code",
   "execution_count": 1,
   "id": "13b796f4-f730-4f6f-bf77-42635fc4020e",
   "metadata": {},
   "outputs": [
    {
     "name": "stdout",
     "output_type": "stream",
     "text": [
      "Not loading Cohere because it is not installed.\n",
      "Not loading Cohere because it is not installed.\n"
     ]
    }
   ],
   "source": [
    "import kodsp as dsp\n",
    "import json\n",
    "import pandas as pd\n",
    "\n",
    "openai_key = 'YOUR_API_KEY'"
   ]
  },
  {
   "cell_type": "code",
   "execution_count": 2,
   "id": "d9872a04-0807-4040-9e24-8c401f76e725",
   "metadata": {},
   "outputs": [],
   "source": [
    "def convert_data_to_dsp_v1(data_type):\n",
    "    dsp_examples = []\n",
    "    with open(f\"./KorWikiTQ_ko_{data_type}.json\", \"r\") as json_file:\n",
    "        korwikitq = json.load(json_file)['data']\n",
    "    for idx, datum in enumerate(korwikitq):\n",
    "        dsp_examples.append(dsp.Example(question=datum['QAS']['question'], \n",
    "                                        answer=datum['QAS']['answer']))\n",
    "    return dsp_examples"
   ]
  },
  {
   "cell_type": "markdown",
   "id": "31ef5356-bb06-40f4-a2a5-6199af6b0c3d",
   "metadata": {},
   "source": [
    "# LM"
   ]
  },
  {
   "cell_type": "code",
   "execution_count": 5,
   "id": "0eb6c4a4-9102-490a-8a22-2762d171c3e6",
   "metadata": {},
   "outputs": [],
   "source": [
    "lm = dsp.GPT3(model='gpt-3.5-turbo', api_key=openai_key, model_type='chat')\n",
    "\n",
    "dsp.settings.configure(lm=lm)"
   ]
  },
  {
   "cell_type": "markdown",
   "id": "5f879f59-0175-41df-a5f3-469350be322f",
   "metadata": {},
   "source": [
    "# Data"
   ]
  },
  {
   "cell_type": "code",
   "execution_count": 3,
   "id": "0505fab6-f3c3-41a1-a330-15a718ae8f51",
   "metadata": {},
   "outputs": [],
   "source": [
    "train = convert_data_to_dsp_v1(data_type='train')\n",
    "dev = convert_data_to_dsp_v1(data_type='dev')"
   ]
  },
  {
   "cell_type": "code",
   "execution_count": 13,
   "id": "97229f26-3e7c-49bc-96f3-cac39457aacc",
   "metadata": {},
   "outputs": [
    {
     "data": {
      "text/plain": [
       "({'question': '2010년 8월 11일 대한민국 축구 국가대표팀 은퇴식을 거행한 선수는 누구인가요?',\n",
       "  'answer': '이운재'},\n",
       " {'question': '나익진은 몇 대 체신부 차관을 지냈나요?', 'answer': '7대'})"
      ]
     },
     "execution_count": 13,
     "metadata": {},
     "output_type": "execute_result"
    }
   ],
   "source": [
    "# dsp.Example 형태 확인\n",
    "\n",
    "train[0], dev[0]"
   ]
  },
  {
   "cell_type": "code",
   "execution_count": 14,
   "id": "5a3fc07b-ed48-4803-b75e-672c241edc5c",
   "metadata": {},
   "outputs": [],
   "source": [
    "# 원하는 task에 맞게 prefix, desc, instructions만 간단하게 수정해주면 끝입니다!\n",
    "\n",
    "Question = dsp.Type(prefix=\"질문: \", desc=\"${표와 관련된 질문}\")\n",
    "Answer = dsp.Type(prefix=\"정답: \", desc=\"${표에서 찾아낸 질문에 대한 답}\", format=dsp.format_answers)\n",
    "\n",
    "qa_template_v1 = dsp.Template(instructions=\"주어진 질문에 대해 답하세요.\",\n",
    "                              question=Question(),\n",
    "                              answer=Answer())"
   ]
  },
  {
   "cell_type": "markdown",
   "id": "787c05f3-0278-4f51-aca6-0d9b7ca87a72",
   "metadata": {},
   "source": [
    "# Vanilla LM"
   ]
  },
  {
   "cell_type": "code",
   "execution_count": 7,
   "id": "d1e0ba43-2f11-4953-b834-3047872c6dda",
   "metadata": {},
   "outputs": [],
   "source": [
    "def vanilla_LM_QA(question: str) -> str:\n",
    "    demos = dsp.sample(train, k=5)\n",
    "    example = dsp.Example(question=question, demos=demos)\n",
    "\n",
    "    example, completions = dsp.generate(qa_template_v1)(example, stage='qa')\n",
    "    return completions.answer"
   ]
  },
  {
   "cell_type": "code",
   "execution_count": 8,
   "id": "25078d4a-520a-477a-8ae9-bdc48645939f",
   "metadata": {},
   "outputs": [
    {
     "name": "stdout",
     "output_type": "stream",
     "text": [
      "\n",
      "\n",
      "\n",
      "\n",
      "주어진 질문에 대해 답하세요.\n",
      "\n",
      "---\n",
      "\n",
      "출력 형식은 다음과 같습니다.\n",
      "\n",
      "질문: ${표와 관련된 질문}\n",
      "정답: ${표에서 찾아낸 질문에 대한 답}\n",
      "\n",
      "---\n",
      "\n",
      "질문: 농림부 3대 차관보은 누구입니까?\n",
      "정답: 구윤석(具允錫)\n",
      "\n",
      "질문: 브느와 델롬이 2005년에 연출한 작품은 뭔가요?\n",
      "정답: 프로포지션\n",
      "\n",
      "질문: 아라라트 예레반의 1975-76 시즌 UEFA 컵위너스컵 1라운드 최종 점수가 어떻게 돼?\n",
      "정답: 10-1\n",
      "\n",
      "질문: 애니메이션 박앵귀 10화의 부제를 일본어로 뭐라고 하나요?\n",
      "정답: 絆のゆくえ\n",
      "\n",
      "질문: 비주얼 스튜디오 6.0의 코드명이 뭐야?\n",
      "정답: Aspen\n",
      "\n",
      "질문: 손승우가 요도 역을 연기한 드라마는 뭔가요?\n",
      "정답:\u001b[32m'미스터 션샤인'\u001b[0m\n",
      "\n",
      "\n",
      "\n"
     ]
    }
   ],
   "source": [
    "vanilla_LM_QA(dev[5].question)\n",
    "lm.inspect_history(n=1)"
   ]
  },
  {
   "cell_type": "code",
   "execution_count": 9,
   "id": "1d12af1b-f263-4324-86d2-3822a49ba3ab",
   "metadata": {},
   "outputs": [
    {
     "name": "stdout",
     "output_type": "stream",
     "text": [
      "\n",
      "\n",
      "\n",
      "\n",
      "주어진 질문에 대해 답하세요.\n",
      "\n",
      "---\n",
      "\n",
      "출력 형식은 다음과 같습니다.\n",
      "\n",
      "질문: ${표와 관련된 질문}\n",
      "정답: ${표에서 찾아낸 질문에 대한 답}\n",
      "\n",
      "---\n",
      "\n",
      "질문: 농림부 3대 차관보은 누구입니까?\n",
      "정답: 구윤석(具允錫)\n",
      "\n",
      "질문: 브느와 델롬이 2005년에 연출한 작품은 뭔가요?\n",
      "정답: 프로포지션\n",
      "\n",
      "질문: 아라라트 예레반의 1975-76 시즌 UEFA 컵위너스컵 1라운드 최종 점수가 어떻게 돼?\n",
      "정답: 10-1\n",
      "\n",
      "질문: 애니메이션 박앵귀 10화의 부제를 일본어로 뭐라고 하나요?\n",
      "정답: 絆のゆくえ\n",
      "\n",
      "질문: 비주얼 스튜디오 6.0의 코드명이 뭐야?\n",
      "정답: Aspen\n",
      "\n",
      "질문: DSBA 연구실에서 4학기를 다니고 있으며, 성이 오씨인 학생의 생일은?\n",
      "정답:\u001b[32m정답을 알 수 없습니다. 추가 정보가 필요합니다.\u001b[0m\n",
      "\n",
      "\n",
      "\n"
     ]
    }
   ],
   "source": [
    "vanilla_LM_QA(\"DSBA 연구실에서 4학기를 다니고 있으며, 성이 오씨인 학생의 생일은?\")\n",
    "lm.inspect_history(n=1)"
   ]
  }
 ],
 "metadata": {
  "kernelspec": {
   "display_name": "Python 3 (ipykernel)",
   "language": "python",
   "name": "python3"
  },
  "language_info": {
   "codemirror_mode": {
    "name": "ipython",
    "version": 3
   },
   "file_extension": ".py",
   "mimetype": "text/x-python",
   "name": "python",
   "nbconvert_exporter": "python",
   "pygments_lexer": "ipython3",
   "version": "3.10.9"
  }
 },
 "nbformat": 4,
 "nbformat_minor": 5
}
