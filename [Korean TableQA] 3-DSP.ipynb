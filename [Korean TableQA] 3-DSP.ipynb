{
 "cells": [
  {
   "cell_type": "code",
   "execution_count": 1,
   "id": "13b796f4-f730-4f6f-bf77-42635fc4020e",
   "metadata": {},
   "outputs": [
    {
     "name": "stdout",
     "output_type": "stream",
     "text": [
      "Not loading Cohere because it is not installed.\n",
      "Not loading Cohere because it is not installed.\n"
     ]
    }
   ],
   "source": [
    "import kodsp as dsp\n",
    "import json\n",
    "import pandas as pd\n",
    "import numpy as np\n",
    "from collections import defaultdict\n",
    "from itertools import chain\n",
    "from rank_bm25 import BM25Okapi\n",
    "\n",
    "openai_key = 'YOUR_API_KEY'"
   ]
  },
  {
   "cell_type": "code",
   "execution_count": 3,
   "id": "d9872a04-0807-4040-9e24-8c401f76e725",
   "metadata": {},
   "outputs": [],
   "source": [
    "def convert_data_to_dsp_v1(data_type):\n",
    "    dsp_examples = []\n",
    "    with open(f\"./KorWikiTQ_ko_{data_type}.json\", \"r\") as json_file:\n",
    "        korwikitq = json.load(json_file)['data']\n",
    "    for idx, datum in enumerate(korwikitq):\n",
    "        dsp_examples.append(dsp.Example(question=datum['QAS']['question'], \n",
    "                                        answer=datum['QAS']['answer']))\n",
    "    return dsp_examples"
   ]
  },
  {
   "cell_type": "code",
   "execution_count": 4,
   "id": "20c343a3-5d99-47c8-9831-a77200ed4667",
   "metadata": {},
   "outputs": [],
   "source": [
    "def convert_list_to_df(table_list):\n",
    "    table_df = pd.DataFrame(table_list)\n",
    "    table_df = table_df.rename(columns=table_df.iloc[0])\n",
    "    table_df = table_df.drop(table_df.index[0])\n",
    "    table_df.reset_index(drop=True, inplace=True)\n",
    "    table_df = table_df.astype('str')\n",
    "    table_df.columns = [\"nan\" if col == None else col for col in list(table_df.columns)]\n",
    "    return table_df"
   ]
  },
  {
   "cell_type": "code",
   "execution_count": 5,
   "id": "154b3a37-58f9-4d1a-9d55-dd78a2057750",
   "metadata": {},
   "outputs": [],
   "source": [
    "def convert_table_to_text(table_lst):\n",
    "    table_df = convert_list_to_df(table_lst)\n",
    "    table = {}\n",
    "    table['columns'] = table_df.columns.tolist()\n",
    "    table['values'] = table_df.values.tolist()\n",
    "    return json.dumps(table, ensure_ascii = False)"
   ]
  },
  {
   "cell_type": "markdown",
   "id": "9f649183-a22a-4107-bba5-3c94e2449603",
   "metadata": {},
   "source": [
    "# LM"
   ]
  },
  {
   "cell_type": "code",
   "execution_count": 6,
   "id": "c76f60c3-6975-4ef6-b16c-17d994b57411",
   "metadata": {},
   "outputs": [],
   "source": [
    "lm = dsp.GPT3(model='gpt-3.5-turbo', api_key=openai_key, model_type='chat')\n",
    "\n",
    "dsp.settings.configure(lm=lm)"
   ]
  },
  {
   "cell_type": "markdown",
   "id": "f67d6e19-2a38-45b1-b2bb-9af001395e0c",
   "metadata": {},
   "source": [
    "# RM\n",
    "> 빠른 실험 및 쉬운 재현을 위해 bm25를 사용했습니다."
   ]
  },
  {
   "cell_type": "code",
   "execution_count": 7,
   "id": "be8b71b8-b0e0-46df-aa57-0bb7561a5f08",
   "metadata": {},
   "outputs": [],
   "source": [
    "def retrieve_bm25(question, k):\n",
    "    return [txt_to_json_dict[' '.join(top_n_table)] for top_n_table in bm25.get_top_n(question.split(\" \"), corpus, n=k)]"
   ]
  },
  {
   "cell_type": "markdown",
   "id": "b5e5f34d-d43e-4446-b3fa-bcfea2606ea5",
   "metadata": {},
   "source": [
    "### Corpus 구축\n",
    "> Retrieval에 활용할 Corpus를 준비합니다. 해당 노트북은 DSP의 작동 방식을 보여주기 위한 튜토리얼 노트북이기 때문에 korwikitq dev 데이터에 포함된 표만을 사용하여 아주 작은 표 corpus를 구축했습니다."
   ]
  },
  {
   "cell_type": "code",
   "execution_count": 8,
   "id": "0b0b8036-85b5-4c2d-a3f3-8fde339e86d8",
   "metadata": {},
   "outputs": [],
   "source": [
    "with open(f\"./KorWikiTQ_ko_dev.json\", \"r\") as json_file:\n",
    "    korwikitq = json.load(json_file)['data']\n",
    "\n",
    "corpus = []\n",
    "txt_to_json_dict = defaultdict(str)\n",
    "\n",
    "for datum in korwikitq:\n",
    "    table_txt = \" \".join(list(chain(*datum['TBL'])))\n",
    "    if table_txt not in txt_to_json_dict:\n",
    "        corpus.append(table_txt.split(\" \"))\n",
    "        txt_to_json_dict[table_txt] = convert_table_to_text(datum['TBL'])"
   ]
  },
  {
   "cell_type": "code",
   "execution_count": 9,
   "id": "cb1b0d33-e7df-49ae-ac0d-abe9f7949142",
   "metadata": {},
   "outputs": [],
   "source": [
    "# custom 예제를 위한 table을 하나 추가합니다!\n",
    "\n",
    "dsba_table = [['이름', '연구실', '학기', '생일', '좋아하는 드라마'],\n",
    "              ['마민정', 'DSBA', '1', '3월 4일', '상속자들'],\n",
    "              ['이지윤', 'DSBA', '2', '9월 23일', '별에서 온 그대'],\n",
    "              ['박새란', 'DSBA', '2', '10월 5일', '꽃보다 남자'],\n",
    "              ['오수지', 'DSBA', '4', '12월 1일', '구가의 서'],\n",
    "              ['김선우', 'DSBA', '4', '4월 12일', '무빙']]\n",
    "\n",
    "dsba_txt = \" \".join(list(chain(*dsba_table)))\n",
    "corpus.append(dsba_txt.split(\" \"))\n",
    "txt_to_json_dict[dsba_txt] = convert_table_to_text(dsba_table)\n",
    "\n",
    "bm25 = BM25Okapi(corpus)"
   ]
  },
  {
   "cell_type": "markdown",
   "id": "20713b13-0ba9-4926-8010-4c3459e705f7",
   "metadata": {},
   "source": [
    "# Data"
   ]
  },
  {
   "cell_type": "code",
   "execution_count": 10,
   "id": "0505fab6-f3c3-41a1-a330-15a718ae8f51",
   "metadata": {},
   "outputs": [],
   "source": [
    "train = convert_data_to_dsp_v1(data_type='train')\n",
    "dev = convert_data_to_dsp_v1(data_type='dev')"
   ]
  },
  {
   "cell_type": "code",
   "execution_count": 11,
   "id": "0caa6e76-021e-4519-a983-192daf36af7d",
   "metadata": {},
   "outputs": [],
   "source": [
    "# 원하는 task에 맞게 prefix, desc, instructions만 간단하게 수정해주면 끝입니다!\n",
    "\n",
    "Question = dsp.Type(prefix=\"질문: \", desc=\"${표와 관련된 질문}\")\n",
    "Answer = dsp.Type(prefix=\"정답: \", desc=\"${표에서 찾아낸 질문에 대한 답}\", format=dsp.format_answers)\n",
    "Table = dsp.Type(\n",
    "    prefix=\"표:\\n\",\n",
    "    desc=\"${JSON 형식으로 주어진 표}\",\n",
    "    format=dsp.passages2text\n",
    ")\n",
    "\n",
    "SearchRationale = dsp.Type(\n",
    "    prefix=\"근거: 정답을 확실히 하기 위해 이 문제를 단계별로 해결해 봅시다. 질문에 답하기 위해 우리가 가장 먼저 찾아야 하는 것은\",\n",
    "    desc=\"${정답을 찾기 위해 가장 필요한 정보}\"\n",
    ")\n",
    "\n",
    "SearchQuery = dsp.Type(\n",
    "    prefix=\"검색문: \",\n",
    "    desc=\"${필요한 정보를 찾기 위한 간단한 질문}\"\n",
    ")\n",
    "\n",
    "rewrite_template = dsp.Template(\n",
    "    instructions=\"질문에 답하는 데 도움이 될 수 있는 검색문을 작성하세요.\",\n",
    "    question=Question(), rationale=SearchRationale(), query=SearchQuery()\n",
    ")\n",
    "\n",
    "CondenseRationale = dsp.Type(\n",
    "    prefix=\"근거: 정답을 확실히 하기 위해 이 문제를 단계별로 해결해 봅시다. 표에 근거하여 우리는 질문에 주어진 대상에 대해 다음과 같은 것들을 알 수 있습니다.\",\n",
    "    desc=\"${표에서 찾을 수 있는 정답에 대한 중요한 단서를 이용한 짧은 추론}\"\n",
    ")\n",
    "\n",
    "hop_template = dsp.Template(\n",
    "    instructions=rewrite_template.instructions,\n",
    "    context=Table(), question=Question(), rationale=CondenseRationale(), query=SearchQuery()\n",
    ")\n",
    "\n",
    "Rationale = dsp.Type(\n",
    "    prefix=\"근거: 정답을 확실히 하기 위해 이 문제를 단계별로 해결해 봅시다.\",\n",
    "    desc=\"${올바른 정답을 찾기 위한 단계별 추론}\"\n",
    ")\n",
    "\n",
    "qa_template_v3 = dsp.Template(instructions=\"JSON 형식으로 된 다음의 표에 근거하여 주어진 질문에 대해 답하세요.\",\n",
    "                              context=Table(),\n",
    "                              question=Question(),\n",
    "                              rationale=Rationale(),\n",
    "                              answer=Answer())"
   ]
  },
  {
   "cell_type": "markdown",
   "id": "3e4301cd-05c9-48bf-87c6-3965a5df5988",
   "metadata": {},
   "source": [
    "# Demonstrate-Search-Predict"
   ]
  },
  {
   "cell_type": "code",
   "execution_count": 22,
   "id": "535c37ad-5049-4159-9227-331c72685825",
   "metadata": {},
   "outputs": [],
   "source": [
    "from dsp.utils import deduplicate\n",
    "\n",
    "@dsp.transformation\n",
    "def multihop_search_v1(example: dsp.Example, max_hops=2, k=2) -> dsp.Example:\n",
    "    example.context = []\n",
    "    \n",
    "    for hop in range(max_hops):\n",
    "        # Generate a query based\n",
    "        template = rewrite_template if hop == 0 else hop_template\n",
    "        example, completions = dsp.generate(template)(example, stage=f'h{hop}')\n",
    "\n",
    "        # Retrieve k results based on the query generated\n",
    "        passages = retrieve_bm25(completions.query, k=k)\n",
    "\n",
    "        # Update the context by concatenating old and new passages\n",
    "        example.context = deduplicate(example.context + passages)\n",
    "\n",
    "    return example\n",
    "\n",
    "def multihop_QA_v1(question: str) -> str:\n",
    "    demos = dsp.sample(train, k=5)\n",
    "    x = dsp.Example(question=question, demos=demos)\n",
    "    \n",
    "    x = multihop_search_v1(x)\n",
    "    example, completions = dsp.generate(qa_template_v3)(x, stage='qa')\n",
    "\n",
    "    return completions.answer"
   ]
  },
  {
   "cell_type": "code",
   "execution_count": 23,
   "id": "8161054a-b740-4510-869e-34211c866f3d",
   "metadata": {},
   "outputs": [
    {
     "data": {
      "text/plain": [
       "'오수지가 좋아하는 드라마인 \"구가의 서\"는 2013년에 방영되었습니다.'"
      ]
     },
     "execution_count": 23,
     "metadata": {},
     "output_type": "execute_result"
    }
   ],
   "source": [
    "# DSP는 Search 단계에서 라벨링된 데이터 없이도 LM-RM의 상호 작용을 통해 여러 번의 hop이 가능합니다.\n",
    "# 이 과정을 직접 확인하기 위해 임의로 2개의 표를 참고해야만 답을 낼 수 있는 질문을 만들었습니다.\n",
    "\n",
    "multihop_QA_v1(\"DSBA 연구실 오수지가 좋아하는 드라마가 방영한 연도는?\")"
   ]
  },
  {
   "cell_type": "code",
   "execution_count": 24,
   "id": "6698890c-3932-4c99-afdc-b084bfaaf853",
   "metadata": {},
   "outputs": [
    {
     "name": "stdout",
     "output_type": "stream",
     "text": [
      "\n",
      "\n",
      "\n",
      "\n",
      "질문에 답하는 데 도움이 될 수 있는 검색문을 작성하세요.\n",
      "\n",
      "---\n",
      "\n",
      "출력 형식은 다음과 같습니다.\n",
      "\n",
      "질문: ${표와 관련된 질문}\n",
      "근거: 정답을 확실히 하기 위해 이 문제를 단계별로 해결해 봅시다. 질문에 답하기 위해 우리가 가장 먼저 찾아야 하는 것은 ${정답을 찾기 위해 가장 필요한 정보}\n",
      "검색문: ${필요한 정보를 찾기 위한 간단한 질문}\n",
      "\n",
      "---\n",
      "\n",
      "질문: DSBA 연구실 오수지가 좋아하는 드라마가 방영한 연도는?\n",
      "근거: 정답을 확실히 하기 위해 이 문제를 단계별로 해결해 봅시다. 질문에 답하기 위해 우리가 가장 먼저 찾아야 하는 것은\u001b[32m오수지가 좋아하는 드라마의 방영 연도입니다.\n",
      "검색문: \"오수지가 좋아하는 드라마 방영 연도\"\u001b[0m\n",
      "\n",
      "\n",
      "\n",
      "\n",
      "\n",
      "\n",
      "\n",
      "질문에 답하는 데 도움이 될 수 있는 검색문을 작성하세요.\n",
      "\n",
      "---\n",
      "\n",
      "출력 형식은 다음과 같습니다.\n",
      "\n",
      "표:\n",
      "${JSON 형식으로 주어진 표}\n",
      "\n",
      "질문: ${표와 관련된 질문}\n",
      "\n",
      "근거: 정답을 확실히 하기 위해 이 문제를 단계별로 해결해 봅시다. 표에 근거하여 우리는 질문에 주어진 대상에 대해 다음과 같은 것들을 알 수 있습니다. ${표에서 찾을 수 있는 정답에 대한 중요한 단서를 이용한 짧은 추론}\n",
      "\n",
      "검색문: ${필요한 정보를 찾기 위한 간단한 질문}\n",
      "\n",
      "---\n",
      "\n",
      "표:\n",
      "[1] «{\"columns\": [\"이름\", \"연구실\", \"학기\", \"생일\", \"좋아하는 드라마\"], \"values\": [[\"마민정\", \"DSBA\", \"1\", \"3월 4일\", \"상속자들\"], [\"이지윤\", \"DSBA\", \"2\", \"9월 23일\", \"별에서 온 그대\"], [\"박새란\", \"DSBA\", \"2\", \"10월 5일\", \"꽃보다 남자\"], [\"오수지\", \"DSBA\", \"4\", \"12월 1일\", \"구가의 서\"], [\"김선우\", \"DSBA\", \"4\", \"4월 12일\", \"무빙\"]]}»\n",
      "[2] «{\"columns\": [\"년도\", \"수상\", \"분류\", \"결과\", \"작품\"], \"values\": [[\"2004\", \"영국인 아카데미 영화 어워드\", \"Best new Director (Fiction)\", \"후보\", \"Teachers\"], [\"2004\", \"Phoenix Film Critics Society\", \"Best Ensemble Acting\", \"후보\", \"러브 액츄얼리\"], [\"2004\", \"Empire Award\", \"Best Newcomer\", \"후보\", \"러브 액츄얼리\"], [\"2007\", \"Golden Nymph Award\", \"Outstanding Actor - Drama Series\", \"수상\", \"Afterlife\"], [\"2010\", \"IGN Summer Movie Award\", \"최고의 TV 영웅\", \"수상\", \"워킹 데드\"], [\"2011\", \"Saturn Award\", \"텔레비전 최고의 배우\", \"후보\", \"워킹 데드\"], [\"2011\", \"Scream Award\", \"최고의 호러 배우\", \"후보\", \"워킹 데드\"], [\"2012\", \"Satellite Award\", \"최고의 캐스팅\", \"수상\", \"워킹 데드\"], [\"2013\", \"Saturn Award\", \"텔레비전 최고의 배우\", \"후보\", \"워킹 데드\"], [\"2013\", \"Critics Choice Television Award\", \"드라마 최고의 배우\", \"후보\", \"워킹 데드\"], [\"2013\", \"TV 가이드\", \"가장 좋아하는 배우\", \"후보\", \"워킹 데드\"], [\"2014\", \"사람들의 선택\", \"가장 좋아하는 공상과학/판타지 TV 배우\", \"후보\", \"워킹 데드\"], [\"2014\", \"사람들의 선택\", \"가장 좋아하는 TV 안티 영웅\", \"수상\", \"워킹 데드\"], [\"2015\", \"Saturn Award\", \"텔레비전 최고의 배우\", \"수상\", \"워킹 데드\"]]}»\n",
      "\n",
      "질문: DSBA 연구실 오수지가 좋아하는 드라마가 방영한 연도는?\n",
      "\n",
      "근거: 정답을 확실히 하기 위해 이 문제를 단계별로 해결해 봅시다. 표에 근거하여 우리는 질문에 주어진 대상에 대해 다음과 같은 것들을 알 수 있습니다.\u001b[32m- DSBA 연구실의 멤버 중 오수지가 좋아하는 드라마는 \"구가의 서\"입니다.\n",
      "- 표에서 \"구가의 서\"는 오수지가 좋아하는 드라마로 나와 있습니다.\n",
      "- 따라서, 오수지가 좋아하는 드라마 \"구가의 서\"가 방영된 연도를 찾아야 합니다.\n",
      "\n",
      "검색문: \"구가의 서 드라마 방영 연도\"\u001b[0m\n",
      "\n",
      "\n",
      "\n",
      "\n",
      "\n",
      "\n",
      "\n",
      "JSON 형식으로 된 다음의 표에 근거하여 주어진 질문에 대해 답하세요.\n",
      "\n",
      "---\n",
      "\n",
      "질문: 농림부 3대 차관보은 누구입니까?\n",
      "정답: 구윤석(具允錫)\n",
      "\n",
      "질문: 브느와 델롬이 2005년에 연출한 작품은 뭔가요?\n",
      "정답: 프로포지션\n",
      "\n",
      "질문: 아라라트 예레반의 1975-76 시즌 UEFA 컵위너스컵 1라운드 최종 점수가 어떻게 돼?\n",
      "정답: 10-1\n",
      "\n",
      "질문: 애니메이션 박앵귀 10화의 부제를 일본어로 뭐라고 하나요?\n",
      "정답: 絆のゆくえ\n",
      "\n",
      "질문: 비주얼 스튜디오 6.0의 코드명이 뭐야?\n",
      "정답: Aspen\n",
      "\n",
      "---\n",
      "\n",
      "출력 형식은 다음과 같습니다.\n",
      "\n",
      "표:\n",
      "${JSON 형식으로 주어진 표}\n",
      "\n",
      "질문: ${표와 관련된 질문}\n",
      "\n",
      "근거: 정답을 확실히 하기 위해 이 문제를 단계별로 해결해 봅시다. ${올바른 정답을 찾기 위한 단계별 추론}\n",
      "\n",
      "정답: ${표에서 찾아낸 질문에 대한 답}\n",
      "\n",
      "---\n",
      "\n",
      "표:\n",
      "[1] «{\"columns\": [\"이름\", \"연구실\", \"학기\", \"생일\", \"좋아하는 드라마\"], \"values\": [[\"마민정\", \"DSBA\", \"1\", \"3월 4일\", \"상속자들\"], [\"이지윤\", \"DSBA\", \"2\", \"9월 23일\", \"별에서 온 그대\"], [\"박새란\", \"DSBA\", \"2\", \"10월 5일\", \"꽃보다 남자\"], [\"오수지\", \"DSBA\", \"4\", \"12월 1일\", \"구가의 서\"], [\"김선우\", \"DSBA\", \"4\", \"4월 12일\", \"무빙\"]]}»\n",
      "[2] «{\"columns\": [\"년도\", \"수상\", \"분류\", \"결과\", \"작품\"], \"values\": [[\"2004\", \"영국인 아카데미 영화 어워드\", \"Best new Director (Fiction)\", \"후보\", \"Teachers\"], [\"2004\", \"Phoenix Film Critics Society\", \"Best Ensemble Acting\", \"후보\", \"러브 액츄얼리\"], [\"2004\", \"Empire Award\", \"Best Newcomer\", \"후보\", \"러브 액츄얼리\"], [\"2007\", \"Golden Nymph Award\", \"Outstanding Actor - Drama Series\", \"수상\", \"Afterlife\"], [\"2010\", \"IGN Summer Movie Award\", \"최고의 TV 영웅\", \"수상\", \"워킹 데드\"], [\"2011\", \"Saturn Award\", \"텔레비전 최고의 배우\", \"후보\", \"워킹 데드\"], [\"2011\", \"Scream Award\", \"최고의 호러 배우\", \"후보\", \"워킹 데드\"], [\"2012\", \"Satellite Award\", \"최고의 캐스팅\", \"수상\", \"워킹 데드\"], [\"2013\", \"Saturn Award\", \"텔레비전 최고의 배우\", \"후보\", \"워킹 데드\"], [\"2013\", \"Critics Choice Television Award\", \"드라마 최고의 배우\", \"후보\", \"워킹 데드\"], [\"2013\", \"TV 가이드\", \"가장 좋아하는 배우\", \"후보\", \"워킹 데드\"], [\"2014\", \"사람들의 선택\", \"가장 좋아하는 공상과학/판타지 TV 배우\", \"후보\", \"워킹 데드\"], [\"2014\", \"사람들의 선택\", \"가장 좋아하는 TV 안티 영웅\", \"수상\", \"워킹 데드\"], [\"2015\", \"Saturn Award\", \"텔레비전 최고의 배우\", \"수상\", \"워킹 데드\"]]}»\n",
      "[3] «{\"columns\": [\"연도\", \"종류\", \"방송사\", \"제목\", \"역할\", \"비고\"], \"values\": [[\"2011년\", \"사극\", \"MBC\", \"계백\", \"문무왕 역\", \"특별출연\"], [\"2011~2012\", \"드라마\", \"OCN\", \"특수사건 전담반 TEN\", \"박현일 역\", \"\"], [\"2013\", \"사극\", \"KBS2\", \"칼과 꽃\", \"암살자 역\", \"\"], [\"2014~2015\", \"사극\", \"KBS2\", \"왕의 얼굴\", \"임해군 역\", \"\"], [\"2012년\", \"드라마\", \"KBS2\", \"각시탈\", \"기무라 켄지 역\", \"1회~7회 출연\"], [\"2012~2013\", \"드라마\", \"KBS2\", \"전우치\", \"오규 역\", \"\"], [\"2013\", \"드라마\", \"KBS2\", \"KBS 드라마 스페셜 - 불청객\", \"태호 역\", \"\"], [\"2013\", \"퓨전사극\", \"MBC\", \"구가의 서\", \"한노 역\", \"\"], [\"2014\", \"퓨전사극\", \"KBS2\", \"왕의 얼굴\", \"임해군 역\", \"\"], [\"2014\", \"드라마\", \"KBS2\", \"참 좋은 시절\", \"오승훈 역\", \"\"], [\"2015\", \"드라마\", \"tvN\", \"슈퍼대디 열\", \"엄기태 역\", \"\"], [\"2016\", \"드라마\", \"tvN\", \"기억\", \"차원석 역\", \"\"], [\"2016\", \"사극\", \"MBC\", \"옥중화\", \"이명헌 (前 내금위 종사관) 역\", \"\"], [\"2017\", \"드라마\", \"KBS2\", \"김과장\", \"박승배 과장 역\", \"\"], [\"2017\", \"드라마\", \"MBC\", \"파수꾼\", \"박준표 역\", \"\"], [\"2017\", \"드라마\", \"KBS2\", \"최강 배달꾼\", \"성규 역\", \"특별출연\"], [\"2017\", \"드라마\", \"JTBC\", \"마술학교\", \"케이 역\", \"특별출연\"], [\"2017\", \"드라마\", \"JTBC\", \"더 패키지\", \"김태영 역\", \"\"], [\"2018\", \"사극\", \"TV조선\", \"대군 - 사랑을 그리다\", \"윤자준 역\", \"\"], [\"2019\", \"드라마\", \"TV조선\", \"바벨\", \"고재일 역\", \"\"]]}»\n",
      "\n",
      "질문: DSBA 연구실 오수지가 좋아하는 드라마가 방영한 연도는?\n",
      "\n",
      "근거: 정답을 확실히 하기 위해 이 문제를 단계별로 해결해 봅시다.\u001b[32m1. 주어진 표에서 DSBA 연구실 오수지의 정보를 찾습니다.\n",
      "2. 오수지의 정보에서 좋아하는 드라마의 정보를 확인합니다.\n",
      "3. 좋아하는 드라마의 방영 연도를 확인합니다.\n",
      "\n",
      "정답: 오수지가 좋아하는 드라마인 \"구가의 서\"는 2013년에 방영되었습니다.\u001b[0m\n",
      "\n",
      "\n",
      "\n"
     ]
    }
   ],
   "source": [
    "lm.inspect_history(n=3)"
   ]
  }
 ],
 "metadata": {
  "kernelspec": {
   "display_name": "Python 3 (ipykernel)",
   "language": "python",
   "name": "python3"
  },
  "language_info": {
   "codemirror_mode": {
    "name": "ipython",
    "version": 3
   },
   "file_extension": ".py",
   "mimetype": "text/x-python",
   "name": "python",
   "nbconvert_exporter": "python",
   "pygments_lexer": "ipython3",
   "version": "3.10.9"
  }
 },
 "nbformat": 4,
 "nbformat_minor": 5
}
